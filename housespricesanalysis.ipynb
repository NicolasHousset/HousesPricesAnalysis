{
 "cells": [
  {
   "cell_type": "code",
   "execution_count": 1,
   "id": "e865d681",
   "metadata": {
    "_cell_guid": "b1076dfc-b9ad-4769-8c92-a6c4dae69d19",
    "_uuid": "8f2839f25d086af736a60e9eeb907d3b93b6e0e5",
    "execution": {
     "iopub.execute_input": "2023-01-18T09:42:25.731174Z",
     "iopub.status.busy": "2023-01-18T09:42:25.730773Z",
     "iopub.status.idle": "2023-01-18T09:42:25.742199Z",
     "shell.execute_reply": "2023-01-18T09:42:25.741008Z"
    },
    "papermill": {
     "duration": 0.021725,
     "end_time": "2023-01-18T09:42:25.745677",
     "exception": false,
     "start_time": "2023-01-18T09:42:25.723952",
     "status": "completed"
    },
    "tags": []
   },
   "outputs": [
    {
     "name": "stdout",
     "output_type": "stream",
     "text": [
      "/kaggle/input/house-prices-advanced-regression-techniques/sample_submission.csv\n",
      "/kaggle/input/house-prices-advanced-regression-techniques/data_description.txt\n",
      "/kaggle/input/house-prices-advanced-regression-techniques/train.csv\n",
      "/kaggle/input/house-prices-advanced-regression-techniques/test.csv\n"
     ]
    }
   ],
   "source": [
    "# This Python 3 environment comes with many helpful analytics libraries installed\n",
    "# It is defined by the kaggle/python Docker image: https://github.com/kaggle/docker-python\n",
    "# For example, here's several helpful packages to load\n",
    "\n",
    "import numpy as np # linear algebra\n",
    "import pandas as pd # data processing, CSV file I/O (e.g. pd.read_csv)\n",
    "\n",
    "# Input data files are available in the read-only \"../input/\" directory\n",
    "# For example, running this (by clicking run or pressing Shift+Enter) will list all files under the input directory\n",
    "\n",
    "import os\n",
    "for dirname, _, filenames in os.walk('/kaggle/input'):\n",
    "    for filename in filenames:\n",
    "        print(os.path.join(dirname, filename))\n",
    "\n",
    "# You can write up to 20GB to the current directory (/kaggle/working/) that gets preserved as output when you create a version using \"Save & Run All\" \n",
    "# You can also write temporary files to /kaggle/temp/, but they won't be saved outside of the current session"
   ]
  },
  {
   "cell_type": "code",
   "execution_count": 2,
   "id": "3698c1d2",
   "metadata": {
    "execution": {
     "iopub.execute_input": "2023-01-18T09:42:25.757409Z",
     "iopub.status.busy": "2023-01-18T09:42:25.756729Z",
     "iopub.status.idle": "2023-01-18T09:42:25.823171Z",
     "shell.execute_reply": "2023-01-18T09:42:25.821563Z"
    },
    "papermill": {
     "duration": 0.07417,
     "end_time": "2023-01-18T09:42:25.825331",
     "exception": false,
     "start_time": "2023-01-18T09:42:25.751161",
     "status": "completed"
    },
    "tags": []
   },
   "outputs": [
    {
     "name": "stdout",
     "output_type": "stream",
     "text": [
      "   Id  MSSubClass MSZoning  LotFrontage  LotArea Street Alley LotShape  \\\n",
      "0   1          60       RL         65.0     8450   Pave   NaN      Reg   \n",
      "1   2          20       RL         80.0     9600   Pave   NaN      Reg   \n",
      "2   3          60       RL         68.0    11250   Pave   NaN      IR1   \n",
      "3   4          70       RL         60.0     9550   Pave   NaN      IR1   \n",
      "4   5          60       RL         84.0    14260   Pave   NaN      IR1   \n",
      "\n",
      "  LandContour Utilities  ... PoolArea PoolQC Fence MiscFeature MiscVal MoSold  \\\n",
      "0         Lvl    AllPub  ...        0    NaN   NaN         NaN       0      2   \n",
      "1         Lvl    AllPub  ...        0    NaN   NaN         NaN       0      5   \n",
      "2         Lvl    AllPub  ...        0    NaN   NaN         NaN       0      9   \n",
      "3         Lvl    AllPub  ...        0    NaN   NaN         NaN       0      2   \n",
      "4         Lvl    AllPub  ...        0    NaN   NaN         NaN       0     12   \n",
      "\n",
      "  YrSold  SaleType  SaleCondition  SalePrice  \n",
      "0   2008        WD         Normal     208500  \n",
      "1   2007        WD         Normal     181500  \n",
      "2   2008        WD         Normal     223500  \n",
      "3   2006        WD        Abnorml     140000  \n",
      "4   2008        WD         Normal     250000  \n",
      "\n",
      "[5 rows x 81 columns]\n"
     ]
    }
   ],
   "source": [
    "houses = pd.read_csv(\"/kaggle/input/house-prices-advanced-regression-techniques/train.csv\")\n",
    "print(houses.head())"
   ]
  },
  {
   "cell_type": "code",
   "execution_count": 3,
   "id": "a4016582",
   "metadata": {
    "execution": {
     "iopub.execute_input": "2023-01-18T09:42:25.836468Z",
     "iopub.status.busy": "2023-01-18T09:42:25.835869Z",
     "iopub.status.idle": "2023-01-18T09:42:25.866413Z",
     "shell.execute_reply": "2023-01-18T09:42:25.865029Z"
    },
    "papermill": {
     "duration": 0.038891,
     "end_time": "2023-01-18T09:42:25.869098",
     "exception": false,
     "start_time": "2023-01-18T09:42:25.830207",
     "status": "completed"
    },
    "tags": []
   },
   "outputs": [
    {
     "name": "stdout",
     "output_type": "stream",
     "text": [
      "<class 'pandas.core.frame.DataFrame'>\n",
      "RangeIndex: 1460 entries, 0 to 1459\n",
      "Data columns (total 81 columns):\n",
      " #   Column         Non-Null Count  Dtype  \n",
      "---  ------         --------------  -----  \n",
      " 0   Id             1460 non-null   int64  \n",
      " 1   MSSubClass     1460 non-null   int64  \n",
      " 2   MSZoning       1460 non-null   object \n",
      " 3   LotFrontage    1201 non-null   float64\n",
      " 4   LotArea        1460 non-null   int64  \n",
      " 5   Street         1460 non-null   object \n",
      " 6   Alley          91 non-null     object \n",
      " 7   LotShape       1460 non-null   object \n",
      " 8   LandContour    1460 non-null   object \n",
      " 9   Utilities      1460 non-null   object \n",
      " 10  LotConfig      1460 non-null   object \n",
      " 11  LandSlope      1460 non-null   object \n",
      " 12  Neighborhood   1460 non-null   object \n",
      " 13  Condition1     1460 non-null   object \n",
      " 14  Condition2     1460 non-null   object \n",
      " 15  BldgType       1460 non-null   object \n",
      " 16  HouseStyle     1460 non-null   object \n",
      " 17  OverallQual    1460 non-null   int64  \n",
      " 18  OverallCond    1460 non-null   int64  \n",
      " 19  YearBuilt      1460 non-null   int64  \n",
      " 20  YearRemodAdd   1460 non-null   int64  \n",
      " 21  RoofStyle      1460 non-null   object \n",
      " 22  RoofMatl       1460 non-null   object \n",
      " 23  Exterior1st    1460 non-null   object \n",
      " 24  Exterior2nd    1460 non-null   object \n",
      " 25  MasVnrType     1452 non-null   object \n",
      " 26  MasVnrArea     1452 non-null   float64\n",
      " 27  ExterQual      1460 non-null   object \n",
      " 28  ExterCond      1460 non-null   object \n",
      " 29  Foundation     1460 non-null   object \n",
      " 30  BsmtQual       1423 non-null   object \n",
      " 31  BsmtCond       1423 non-null   object \n",
      " 32  BsmtExposure   1422 non-null   object \n",
      " 33  BsmtFinType1   1423 non-null   object \n",
      " 34  BsmtFinSF1     1460 non-null   int64  \n",
      " 35  BsmtFinType2   1422 non-null   object \n",
      " 36  BsmtFinSF2     1460 non-null   int64  \n",
      " 37  BsmtUnfSF      1460 non-null   int64  \n",
      " 38  TotalBsmtSF    1460 non-null   int64  \n",
      " 39  Heating        1460 non-null   object \n",
      " 40  HeatingQC      1460 non-null   object \n",
      " 41  CentralAir     1460 non-null   object \n",
      " 42  Electrical     1459 non-null   object \n",
      " 43  1stFlrSF       1460 non-null   int64  \n",
      " 44  2ndFlrSF       1460 non-null   int64  \n",
      " 45  LowQualFinSF   1460 non-null   int64  \n",
      " 46  GrLivArea      1460 non-null   int64  \n",
      " 47  BsmtFullBath   1460 non-null   int64  \n",
      " 48  BsmtHalfBath   1460 non-null   int64  \n",
      " 49  FullBath       1460 non-null   int64  \n",
      " 50  HalfBath       1460 non-null   int64  \n",
      " 51  BedroomAbvGr   1460 non-null   int64  \n",
      " 52  KitchenAbvGr   1460 non-null   int64  \n",
      " 53  KitchenQual    1460 non-null   object \n",
      " 54  TotRmsAbvGrd   1460 non-null   int64  \n",
      " 55  Functional     1460 non-null   object \n",
      " 56  Fireplaces     1460 non-null   int64  \n",
      " 57  FireplaceQu    770 non-null    object \n",
      " 58  GarageType     1379 non-null   object \n",
      " 59  GarageYrBlt    1379 non-null   float64\n",
      " 60  GarageFinish   1379 non-null   object \n",
      " 61  GarageCars     1460 non-null   int64  \n",
      " 62  GarageArea     1460 non-null   int64  \n",
      " 63  GarageQual     1379 non-null   object \n",
      " 64  GarageCond     1379 non-null   object \n",
      " 65  PavedDrive     1460 non-null   object \n",
      " 66  WoodDeckSF     1460 non-null   int64  \n",
      " 67  OpenPorchSF    1460 non-null   int64  \n",
      " 68  EnclosedPorch  1460 non-null   int64  \n",
      " 69  3SsnPorch      1460 non-null   int64  \n",
      " 70  ScreenPorch    1460 non-null   int64  \n",
      " 71  PoolArea       1460 non-null   int64  \n",
      " 72  PoolQC         7 non-null      object \n",
      " 73  Fence          281 non-null    object \n",
      " 74  MiscFeature    54 non-null     object \n",
      " 75  MiscVal        1460 non-null   int64  \n",
      " 76  MoSold         1460 non-null   int64  \n",
      " 77  YrSold         1460 non-null   int64  \n",
      " 78  SaleType       1460 non-null   object \n",
      " 79  SaleCondition  1460 non-null   object \n",
      " 80  SalePrice      1460 non-null   int64  \n",
      "dtypes: float64(3), int64(35), object(43)\n",
      "memory usage: 924.0+ KB\n"
     ]
    }
   ],
   "source": [
    "houses.info()"
   ]
  },
  {
   "cell_type": "markdown",
   "id": "1a5e4e97",
   "metadata": {
    "papermill": {
     "duration": 0.004058,
     "end_time": "2023-01-18T09:42:25.877698",
     "exception": false,
     "start_time": "2023-01-18T09:42:25.873640",
     "status": "completed"
    },
    "tags": []
   },
   "source": [
    "# IMPORT DATA"
   ]
  },
  {
   "cell_type": "code",
   "execution_count": 4,
   "id": "4aa1f6b7",
   "metadata": {
    "execution": {
     "iopub.execute_input": "2023-01-18T09:42:25.887456Z",
     "iopub.status.busy": "2023-01-18T09:42:25.887090Z",
     "iopub.status.idle": "2023-01-18T09:42:25.931552Z",
     "shell.execute_reply": "2023-01-18T09:42:25.929973Z"
    },
    "papermill": {
     "duration": 0.05208,
     "end_time": "2023-01-18T09:42:25.934094",
     "exception": false,
     "start_time": "2023-01-18T09:42:25.882014",
     "status": "completed"
    },
    "tags": []
   },
   "outputs": [],
   "source": [
    "train = pd.read_csv(\"/kaggle/input/house-prices-advanced-regression-techniques/train.csv\")\n",
    "test = pd.read_csv(\"/kaggle/input/house-prices-advanced-regression-techniques/test.csv\")"
   ]
  },
  {
   "cell_type": "markdown",
   "id": "788e7aed",
   "metadata": {
    "papermill": {
     "duration": 0.003931,
     "end_time": "2023-01-18T09:42:25.942427",
     "exception": false,
     "start_time": "2023-01-18T09:42:25.938496",
     "status": "completed"
    },
    "tags": []
   },
   "source": [
    "# FILL THE MISSING VALUES"
   ]
  },
  {
   "cell_type": "code",
   "execution_count": 5,
   "id": "5fb2ce82",
   "metadata": {
    "execution": {
     "iopub.execute_input": "2023-01-18T09:42:25.952500Z",
     "iopub.status.busy": "2023-01-18T09:42:25.952177Z",
     "iopub.status.idle": "2023-01-18T09:42:26.057517Z",
     "shell.execute_reply": "2023-01-18T09:42:26.055973Z"
    },
    "papermill": {
     "duration": 0.113416,
     "end_time": "2023-01-18T09:42:26.060206",
     "exception": false,
     "start_time": "2023-01-18T09:42:25.946790",
     "status": "completed"
    },
    "tags": []
   },
   "outputs": [],
   "source": [
    "def fill_all_missing_values(data):\n",
    "    data['FireplaceQu'].fillna(\"No\", inplace=True)\n",
    "    data['BsmtQual'].fillna(\"No\", inplace=True)\n",
    "    data['BsmtCond'].fillna(\"No\", inplace=True)\n",
    "    data['BsmtFinType1'].fillna(\"No\", inplace=True)\n",
    "    data['BsmtFinType2'].fillna(\"No\", inplace=True)\n",
    "    data['BsmtFinType2'].fillna(\"None\", inplace=True)\n",
    "    data['GarageType'].fillna(\"NA\", inplace=True)\n",
    "    for col in data.columns:\n",
    "        if((data[col].dtype == 'float64') or (data[col].dtype == 'int64')):\n",
    "            data[col].fillna(data[col].mean(), inplace=True)\n",
    "        else:\n",
    "             data[col].fillna(data[col].mode()[0], inplace=True)\n",
    "\n",
    "\n",
    "fill_all_missing_values(train)\n",
    "fill_all_missing_values(test)"
   ]
  },
  {
   "cell_type": "markdown",
   "id": "71c6ad92",
   "metadata": {
    "papermill": {
     "duration": 0.003843,
     "end_time": "2023-01-18T09:42:26.068372",
     "exception": false,
     "start_time": "2023-01-18T09:42:26.064529",
     "status": "completed"
    },
    "tags": []
   },
   "source": [
    "# PUTTING TRANSFORMATIONS INTO FUNCTION"
   ]
  },
  {
   "cell_type": "code",
   "execution_count": 6,
   "id": "c03e2050",
   "metadata": {
    "execution": {
     "iopub.execute_input": "2023-01-18T09:42:26.078197Z",
     "iopub.status.busy": "2023-01-18T09:42:26.077866Z",
     "iopub.status.idle": "2023-01-18T09:42:26.109795Z",
     "shell.execute_reply": "2023-01-18T09:42:26.108394Z"
    },
    "papermill": {
     "duration": 0.03963,
     "end_time": "2023-01-18T09:42:26.112063",
     "exception": false,
     "start_time": "2023-01-18T09:42:26.072433",
     "status": "completed"
    },
    "tags": []
   },
   "outputs": [],
   "source": [
    "def recode_vars(data):\n",
    "    data[\"MSSubClass_Recode\"] = \"Cheap\"\n",
    "    data.loc[data[\"MSSubClass\"] == 20, \"MSSubClass_Recode\"] = \"Normal\"\n",
    "    data.loc[data[\"MSSubClass\"] == 150, \"MSSubClass_Recode\"] = \"Normal\"\n",
    "    data.loc[data[\"MSSubClass\"] == 60, \"MSSubClass_Recode\"] = \"Expensive\"\n",
    "    data.loc[data[\"MSSubClass\"] == 120, \"MSSubClass_Recode\"] = \"Expensive\"\n",
    "\n",
    "    data[\"MSZoning_Recode\"] = \"Cheap\"\n",
    "    data.loc[data[\"MSZoning\"] == \"RL\", \"MSZoning_Recode\"] = \"Normal\"\n",
    "    data.loc[data[\"MSZoning\"] == \"FV\", \"MSZoning_Recode\"] = \"Expensive\"\n",
    "\n",
    "    data[\"LotShape_Recode\"] = \"Expensive\"\n",
    "    data.loc[data[\"LotShape\"] == \"Reg\", \"LotShape_Recode\"] = \"Normal\"\n",
    "\n",
    "    data[\"LandContour_Recode\"] = \"Expensive\"\n",
    "    data.loc[data[\"LandContour\"] == \"Bnk\", \"LandContour_Recode\"] = \"Cheap\"\n",
    "    data.loc[data[\"LandContour\"] == \"Lvl\", \"LandContour_Recode\"] = \"Normal\"\n",
    "\n",
    "    data[\"LotConfig_Recode\"] = \"Normal\"\n",
    "    data.loc[data[\"LotConfig\"] == \"Inside\", \"LotConfig_Recode\"] = \"Cheap\"\n",
    "    data.loc[data[\"LotConfig\"] == \"CulDSac\", \"LotConfig_Recode\"] = \"Expensive\"\n",
    "\n",
    "    data[\"LandSlope_Recode\"] = \"Expensive\"\n",
    "    data.loc[data[\"LandSlope\"] == \"Gtl\", \"LandSlope_Recode\"] = \"Normal\"\n",
    "\n",
    "    cheap_neighborhood = [\"Blueste\", \"BrDale\", \"BrkSide\", \"Edwards\", \"IDOTRR\", \"MeadowV\", \"Mitchel\", \"NAmes\", \"NPkVill\",\n",
    "                         \"OldTown\", \"SWISU\", \"Sawyer\"]\n",
    "    medium_neighborhood = [\"Blmngtn\", \"CollgCr\", \"Crawfor\", \"Gilbert\", \"NWAmes\", \"SawyerW\"]\n",
    "    expensive_neighborhood = [\"ClearCr\", \"NoRidge\", \"NridgHt\", \"Somerst\", \"StoneBr\", \"Timber\", \"Veenker\"]\n",
    "\n",
    "    data[\"Neighborhood_Recode\"] = \"Unassigned\"\n",
    "\n",
    "    for n in cheap_neighborhood:\n",
    "        data.loc[data[\"Neighborhood\"] == n, \"Neighborhood_Recode\"] = \"Cheap\"\n",
    "    for n in medium_neighborhood:\n",
    "        data.loc[data[\"Neighborhood\"] == n, \"Neighborhood_Recode\"] = \"Medium\"\n",
    "    for n in expensive_neighborhood:\n",
    "        data.loc[data[\"Neighborhood\"] == n, \"Neighborhood_Recode\"] = \"Expensive\"\n",
    "\n",
    "    data[\"HouseStyle_Recode\"] = \"Cheap\"\n",
    "    data.loc[data[\"HouseStyle\"] == \"2Story\", \"HouseStyle_Recode\"] = \"Expensive\"\n",
    "    data.loc[data[\"HouseStyle\"] == \"2.5Fin\", \"HouseStyle_Recode\"] = \"Expensive\"\n",
    "\n",
    "    data[\"Exterior1st_Recode\"] = \"Cheap\"\n",
    "    data.loc[data[\"Exterior1st\"] == \"CemntBd\", \"Exterior1st_Recode\"] = \"Expensive\"\n",
    "    data.loc[data[\"Exterior1st\"] == \"VinylSd\", \"Exterior1st_Recode\"] = \"Expensive\"\n",
    "    data.loc[data[\"Exterior1st\"] == \"Stone\", \"Exterior1st_Recode\"] = \"Expensive\"\n",
    "\n",
    "    data[\"MasVnrType_Recode\"] = \"Cheap\"\n",
    "    data.loc[data[\"MasVnrType\"] == \"BrkFace\", \"MasVnrType_Recode\"] = \"Normal\"\n",
    "    data.loc[data[\"MasVnrType\"] == \"Stone\", \"MasVnrType_Recode\"] = \"Expensive\"\n",
    "\n",
    "    data[\"ExterQual_Recode\"] = \"Cheap\"\n",
    "    data.loc[data[\"ExterQual\"] == \"Gd\", \"ExterQual_Recode\"] = \"Expensive\"\n",
    "    data.loc[data[\"ExterQual\"] == \"Ex\", \"ExterQual_Recode\"] = \"Expensive\"\n",
    "\n",
    "    data[\"Foundation_Recode\"] = \"Cheap\"\n",
    "    data.loc[data[\"Foundation\"] == \"PConc\", \"Foundation_Recode\"] = \"Expensive\"\n",
    "\n",
    "    data[\"BsmtQual_Recode\"] = \"Cheap\"\n",
    "    data.loc[data[\"BsmtQual\"] == \"Gd\", \"BsmtQual_Recode\"] = \"Normal\"\n",
    "    data.loc[data[\"BsmtQual\"] == \"Ex\", \"BsmtQual_Recode\"] = \"Expensive\"\n",
    "\n",
    "    data[\"BsmtExposure_Recode\"] = \"Normal\"\n",
    "    data.loc[data[\"BsmtExposure\"] == \"No\", \"BsmtExposure_Recode\"] = \"Cheap\"\n",
    "    data.loc[data[\"BsmtExposure\"] == \"Gd\", \"BsmtExposure_Recode\"] = \"Expensive\"\n",
    "\n",
    "    data[\"BsmtFinType1_Recode\"] = \"Cheap\"\n",
    "    data.loc[data[\"BsmtFinType1\"] == \"GLQ\", \"BsmtFinType1_Recode\"] = \"Expensive\"\n",
    "\n",
    "    data[\"HeatingQC_Recode\"] = \"Cheap\"\n",
    "    data.loc[data[\"HeatingQC\"] == \"Gd\", \"HeatingQC_Recode\"] = \"Normal\"\n",
    "    data.loc[data[\"HeatingQC\"] == \"Ex\", \"HeatingQC_Recode\"] = \"Expensive\"\n",
    "\n",
    "    data[\"Electrical_Recode\"] = \"Cheap\"\n",
    "    data.loc[data[\"Electrical\"] == \"SBrkr\", \"Electrical_Recode\"] = \"Normal\"\n",
    "\n",
    "    data[\"KitchenQual_Recode\"] = \"Normal\"\n",
    "    data.loc[data[\"KitchenQual\"] == \"Gd\", \"KitchenQual_Recode\"] = \"Expensive\"\n",
    "    data.loc[data[\"KitchenQual\"] == \"Ex\", \"KitchenQual_Recode\"] = \"Very expensive\"\n",
    "\n",
    "    data[\"GarageType_Recode\"] = \"Cheap\"\n",
    "    data.loc[data[\"GarageType\"] == \"Attchd\", \"GarageType_Recode\"] = \"Normal\"\n",
    "    data.loc[data[\"GarageType\"] == \"BuiltIn\", \"GarageType_Recode\"] = \"Expensive\"\n",
    "\n",
    "    from sklearn.preprocessing import OrdinalEncoder\n",
    "\n",
    "    ordinal_col = [\"MSSubClass_Recode\", \"MSZoning_Recode\", \"LotShape_Recode\", \"LandContour_Recode\", \"LotConfig_Recode\",\n",
    "                  \"Neighborhood_Recode\", \"HouseStyle_Recode\", \"Exterior1st_Recode\", \"MasVnrType_Recode\",\n",
    "                  \"ExterQual_Recode\", \"Foundation_Recode\", \"BsmtQual_Recode\", \"BsmtExposure_Recode\", \n",
    "                  \"BsmtFinType1_Recode\", \"HeatingQC_Recode\", \"CentralAir\", \"Electrical_Recode\", \"KitchenQual_Recode\", \"FirePlaceQu\",\n",
    "                  \"GarageType_Recode\", \"GarageFinish\"]\n",
    "\n",
    "    OE = OrdinalEncoder(categories=[['Cheap', 'Normal', 'Expensive']])\n",
    "    data[\"MSSubClass_Recode\"] = OE.fit_transform(data[[\"MSSubClass_Recode\"]])\n",
    "\n",
    "    OE = OrdinalEncoder(categories=[['Cheap', 'Normal', 'Expensive']])\n",
    "    data[\"MSZoning_Recode\"] = OE.fit_transform(data[[\"MSZoning_Recode\"]])\n",
    "\n",
    "    OE = OrdinalEncoder(categories=[['Normal', 'Expensive']])\n",
    "    data[\"LotShape_Recode\"] = OE.fit_transform(data[[\"LotShape_Recode\"]])\n",
    "\n",
    "    OE = OrdinalEncoder(categories=[['Cheap', 'Normal', 'Expensive']])\n",
    "    data[\"LandContour_Recode\"] = OE.fit_transform(data[[\"LandContour_Recode\"]])\n",
    "\n",
    "    OE = OrdinalEncoder(categories=[['Cheap', 'Normal', 'Expensive']])\n",
    "    data[\"LotConfig_Recode\"] = OE.fit_transform(data[[\"LotConfig_Recode\"]])\n",
    "\n",
    "    OE = OrdinalEncoder(categories=[['Cheap', 'Medium', 'Expensive']])\n",
    "    data[\"Neighborhood_Recode\"] = OE.fit_transform(data[[\"Neighborhood_Recode\"]])\n",
    "\n",
    "    OE = OrdinalEncoder(categories=[['Cheap', 'Expensive']])\n",
    "    data[\"HouseStyle_Recode\"] = OE.fit_transform(data[[\"HouseStyle_Recode\"]])\n",
    "\n",
    "    OE = OrdinalEncoder(categories=[['Cheap', 'Expensive']])\n",
    "    data[\"Exterior1st_Recode\"] = OE.fit_transform(data[[\"Exterior1st_Recode\"]])\n",
    "\n",
    "    OE = OrdinalEncoder(categories=[['Cheap', 'Normal', 'Expensive']])\n",
    "    data[\"MasVnrType_Recode\"] = OE.fit_transform(data[[\"MasVnrType_Recode\"]])\n",
    "\n",
    "    OE = OrdinalEncoder(categories=[['Cheap', 'Expensive']])\n",
    "    data[\"ExterQual_Recode\"] = OE.fit_transform(data[[\"ExterQual_Recode\"]])\n",
    "\n",
    "    OE = OrdinalEncoder(categories=[['Cheap', 'Expensive']])\n",
    "    data[\"Foundation_Recode\"] = OE.fit_transform(data[[\"Foundation_Recode\"]])\n",
    "\n",
    "    OE = OrdinalEncoder(categories=[['Cheap', 'Normal', 'Expensive']])\n",
    "    data[\"BsmtQual_Recode\"] = OE.fit_transform(data[[\"BsmtQual_Recode\"]])\n",
    "\n",
    "    OE = OrdinalEncoder(categories=[['Cheap', 'Normal', 'Expensive']])\n",
    "    data[\"BsmtExposure_Recode\"] = OE.fit_transform(data[[\"BsmtExposure_Recode\"]])\n",
    "\n",
    "    OE = OrdinalEncoder(categories=[['Cheap', 'Expensive']])\n",
    "    data[\"BsmtFinType1_Recode\"] = OE.fit_transform(data[[\"BsmtFinType1_Recode\"]])\n",
    "\n",
    "    OE = OrdinalEncoder(categories=[['Cheap', 'Normal', 'Expensive']])\n",
    "    data[\"HeatingQC_Recode\"] = OE.fit_transform(data[[\"HeatingQC_Recode\"]])\n",
    "\n",
    "    OE = OrdinalEncoder(categories=[['N', 'Y']])\n",
    "    data[\"CentralAir\"] = OE.fit_transform(data[[\"CentralAir\"]])\n",
    "\n",
    "    OE = OrdinalEncoder(categories=[['Cheap', 'Normal']])\n",
    "    data[\"Electrical_Recode\"] = OE.fit_transform(data[[\"Electrical_Recode\"]])\n",
    "\n",
    "    OE = OrdinalEncoder(categories=[['Normal', 'Expensive', 'Very expensive']])\n",
    "    data[\"KitchenQual_Recode\"] = OE.fit_transform(data[[\"KitchenQual_Recode\"]])\n",
    "\n",
    "    OE = OrdinalEncoder(categories=[['No', 'Po', 'Fa', 'TA', 'Gd', 'Ex']])\n",
    "    data[\"FireplaceQu\"] = OE.fit_transform(data[[\"FireplaceQu\"]])\n",
    "\n",
    "    OE = OrdinalEncoder(categories=[['Cheap', 'Normal', 'Expensive']])\n",
    "    data[\"GarageType_Recode\"] = OE.fit_transform(data[[\"GarageType_Recode\"]])\n",
    "\n",
    "    OE = OrdinalEncoder(categories=[['Unf', 'RFn', 'Fin']])\n",
    "    data[\"GarageFinish\"] = OE.fit_transform(data[[\"GarageFinish\"]])"
   ]
  },
  {
   "cell_type": "markdown",
   "id": "41b4a4f2",
   "metadata": {
    "papermill": {
     "duration": 0.003917,
     "end_time": "2023-01-18T09:42:26.120288",
     "exception": false,
     "start_time": "2023-01-18T09:42:26.116371",
     "status": "completed"
    },
    "tags": []
   },
   "source": [
    "# CALLING THE FUNCTION TO OUR DATA"
   ]
  },
  {
   "cell_type": "code",
   "execution_count": 7,
   "id": "0ae73016",
   "metadata": {
    "execution": {
     "iopub.execute_input": "2023-01-18T09:42:26.130050Z",
     "iopub.status.busy": "2023-01-18T09:42:26.129686Z",
     "iopub.status.idle": "2023-01-18T09:42:27.147159Z",
     "shell.execute_reply": "2023-01-18T09:42:27.145924Z"
    },
    "papermill": {
     "duration": 1.024958,
     "end_time": "2023-01-18T09:42:27.149470",
     "exception": false,
     "start_time": "2023-01-18T09:42:26.124512",
     "status": "completed"
    },
    "tags": []
   },
   "outputs": [],
   "source": [
    "recode_vars(train)\n",
    "recode_vars(test)\n",
    "\n",
    "from sklearn.preprocessing import StandardScaler\n",
    "def df_preproc_columns(table):\n",
    "    numeric_columns = [\"LotFrontage\", \"LotArea\", \"YearBuilt\", \"YearRemodAdd\", \"MasVnrArea\",\n",
    "                      \"BsmtFinSF1\", \"BsmtUnfSF\", \"TotalBsmtSF\", \"1stFlrSF\", \"2ndFlrSF\", \"GrLivArea\",\n",
    "                      \"GarageYrBlt\", \"GarageArea\", \"WoodDeckSF\", \"OpenPorchSF\", \"3SsnPorch\", \"ScreenPorch\"]\n",
    "    table[numeric_columns] = table[numeric_columns].fillna(table[numeric_columns].mean())\n",
    "    scaler = StandardScaler()\n",
    "    table[numeric_columns] = scaler.fit_transform(table[numeric_columns])\n",
    "    return table\n",
    "\n",
    "train = df_preproc_columns(train)\n",
    "test = df_preproc_columns(test)"
   ]
  },
  {
   "cell_type": "markdown",
   "id": "f16d94ec",
   "metadata": {
    "papermill": {
     "duration": 0.003899,
     "end_time": "2023-01-18T09:42:27.157756",
     "exception": false,
     "start_time": "2023-01-18T09:42:27.153857",
     "status": "completed"
    },
    "tags": []
   },
   "source": [
    "# SELECTING RELEVANT VARIABLES"
   ]
  },
  {
   "cell_type": "code",
   "execution_count": 8,
   "id": "bd59b1cc",
   "metadata": {
    "execution": {
     "iopub.execute_input": "2023-01-18T09:42:27.167585Z",
     "iopub.status.busy": "2023-01-18T09:42:27.167227Z",
     "iopub.status.idle": "2023-01-18T09:42:27.173963Z",
     "shell.execute_reply": "2023-01-18T09:42:27.172640Z"
    },
    "papermill": {
     "duration": 0.014057,
     "end_time": "2023-01-18T09:42:27.175956",
     "exception": false,
     "start_time": "2023-01-18T09:42:27.161899",
     "status": "completed"
    },
    "tags": []
   },
   "outputs": [],
   "source": [
    "vars_to_keep = [\"MSSubClass_Recode\", \"MSZoning_Recode\", \"LotFrontage\", \"LotArea\", \"LotShape_Recode\",\n",
    "               \"LandContour_Recode\", \"LotConfig_Recode\", \"Neighborhood_Recode\", \"HouseStyle_Recode\",\n",
    "               \"OverallQual\", \"YearBuilt\", \"YearRemodAdd\", \"Exterior1st_Recode\", \"MasVnrType_Recode\",\n",
    "               \"MasVnrArea\", \"ExterQual_Recode\", \"Foundation_Recode\", \"BsmtQual_Recode\",\n",
    "               \"BsmtExposure_Recode\", \"BsmtFinType1_Recode\", \"BsmtFinSF1\", \"BsmtUnfSF\", \n",
    "               \"TotalBsmtSF\", \"HeatingQC_Recode\", \"CentralAir\", \"Electrical_Recode\",\n",
    "               \"1stFlrSF\", \"2ndFlrSF\", \"GrLivArea\", \"BsmtFullBath\", \"FullBath\", \"HalfBath\",\n",
    "               \"BedroomAbvGr\", \"KitchenQual_Recode\", \"TotRmsAbvGrd\", \"Fireplaces\", \"FireplaceQu\",\n",
    "               \"GarageType_Recode\", \"GarageYrBlt\", \"GarageFinish\", \"GarageCars\", \"GarageArea\",\n",
    "               \"WoodDeckSF\", \"OpenPorchSF\", \"3SsnPorch\", \"ScreenPorch\"]"
   ]
  },
  {
   "cell_type": "markdown",
   "id": "30f68f6c",
   "metadata": {
    "papermill": {
     "duration": 0.004043,
     "end_time": "2023-01-18T09:42:27.184294",
     "exception": false,
     "start_time": "2023-01-18T09:42:27.180251",
     "status": "completed"
    },
    "tags": []
   },
   "source": [
    "# RANDOM FOREST"
   ]
  },
  {
   "cell_type": "code",
   "execution_count": 9,
   "id": "f7d2389c",
   "metadata": {
    "execution": {
     "iopub.execute_input": "2023-01-18T09:42:27.194755Z",
     "iopub.status.busy": "2023-01-18T09:42:27.194382Z",
     "iopub.status.idle": "2023-01-18T09:42:30.359972Z",
     "shell.execute_reply": "2023-01-18T09:42:30.358749Z"
    },
    "papermill": {
     "duration": 3.172873,
     "end_time": "2023-01-18T09:42:30.362010",
     "exception": false,
     "start_time": "2023-01-18T09:42:27.189137",
     "status": "completed"
    },
    "tags": []
   },
   "outputs": [
    {
     "name": "stdout",
     "output_type": "stream",
     "text": [
      "0.8813061342125827\n"
     ]
    }
   ],
   "source": [
    "from sklearn.ensemble import RandomForestRegressor\n",
    "from sklearn.model_selection import cross_val_score\n",
    "from sklearn.metrics import mean_squared_error\n",
    "\n",
    "import xgboost as xgb\n",
    "\n",
    "target = train['SalePrice'] # target\n",
    "target = np.log(target)\n",
    "\n",
    "y = target\n",
    "X = train[vars_to_keep]\n",
    "\n",
    "# model = RandomForestRegressor(bootstrap = False, max_depth=None, max_features='sqrt', min_samples_leaf = 1, min_samples_split = 2, n_estimators = 500, random_state = 42)\n",
    "\n",
    "model = xgb.XGBRegressor(tree_method=\"hist\", max_depth=2)\n",
    "model.fit(X, y)\n",
    "score = cross_val_score(model, X, y, cv=10)\n",
    "print(score.mean())\n",
    "\n"
   ]
  },
  {
   "cell_type": "markdown",
   "id": "33e6263c",
   "metadata": {
    "papermill": {
     "duration": 0.004161,
     "end_time": "2023-01-18T09:42:30.433459",
     "exception": false,
     "start_time": "2023-01-18T09:42:30.429298",
     "status": "completed"
    },
    "tags": []
   },
   "source": [
    "# FINAL OUTPUT"
   ]
  },
  {
   "cell_type": "code",
   "execution_count": 10,
   "id": "7123d3d9",
   "metadata": {
    "execution": {
     "iopub.execute_input": "2023-01-18T09:42:30.444298Z",
     "iopub.status.busy": "2023-01-18T09:42:30.443106Z",
     "iopub.status.idle": "2023-01-18T09:42:30.471821Z",
     "shell.execute_reply": "2023-01-18T09:42:30.471059Z"
    },
    "papermill": {
     "duration": 0.036,
     "end_time": "2023-01-18T09:42:30.473757",
     "exception": false,
     "start_time": "2023-01-18T09:42:30.437757",
     "status": "completed"
    },
    "tags": []
   },
   "outputs": [
    {
     "data": {
      "text/html": [
       "<div>\n",
       "<style scoped>\n",
       "    .dataframe tbody tr th:only-of-type {\n",
       "        vertical-align: middle;\n",
       "    }\n",
       "\n",
       "    .dataframe tbody tr th {\n",
       "        vertical-align: top;\n",
       "    }\n",
       "\n",
       "    .dataframe thead th {\n",
       "        text-align: right;\n",
       "    }\n",
       "</style>\n",
       "<table border=\"1\" class=\"dataframe\">\n",
       "  <thead>\n",
       "    <tr style=\"text-align: right;\">\n",
       "      <th></th>\n",
       "      <th>Id</th>\n",
       "      <th>SalePrice</th>\n",
       "    </tr>\n",
       "  </thead>\n",
       "  <tbody>\n",
       "    <tr>\n",
       "      <th>638</th>\n",
       "      <td>2099</td>\n",
       "      <td>45095.660156</td>\n",
       "    </tr>\n",
       "    <tr>\n",
       "      <th>1300</th>\n",
       "      <td>2761</td>\n",
       "      <td>144813.578125</td>\n",
       "    </tr>\n",
       "    <tr>\n",
       "      <th>276</th>\n",
       "      <td>1737</td>\n",
       "      <td>358123.218750</td>\n",
       "    </tr>\n",
       "    <tr>\n",
       "      <th>729</th>\n",
       "      <td>2190</td>\n",
       "      <td>82884.148438</td>\n",
       "    </tr>\n",
       "    <tr>\n",
       "      <th>1423</th>\n",
       "      <td>2884</td>\n",
       "      <td>197607.187500</td>\n",
       "    </tr>\n",
       "    <tr>\n",
       "      <th>788</th>\n",
       "      <td>2249</td>\n",
       "      <td>118981.421875</td>\n",
       "    </tr>\n",
       "    <tr>\n",
       "      <th>19</th>\n",
       "      <td>1480</td>\n",
       "      <td>413671.281250</td>\n",
       "    </tr>\n",
       "    <tr>\n",
       "      <th>403</th>\n",
       "      <td>1864</td>\n",
       "      <td>397607.968750</td>\n",
       "    </tr>\n",
       "    <tr>\n",
       "      <th>1413</th>\n",
       "      <td>2874</td>\n",
       "      <td>140301.937500</td>\n",
       "    </tr>\n",
       "    <tr>\n",
       "      <th>75</th>\n",
       "      <td>1536</td>\n",
       "      <td>115156.898438</td>\n",
       "    </tr>\n",
       "  </tbody>\n",
       "</table>\n",
       "</div>"
      ],
      "text/plain": [
       "        Id      SalePrice\n",
       "638   2099   45095.660156\n",
       "1300  2761  144813.578125\n",
       "276   1737  358123.218750\n",
       "729   2190   82884.148438\n",
       "1423  2884  197607.187500\n",
       "788   2249  118981.421875\n",
       "19    1480  413671.281250\n",
       "403   1864  397607.968750\n",
       "1413  2874  140301.937500\n",
       "75    1536  115156.898438"
      ]
     },
     "execution_count": 10,
     "metadata": {},
     "output_type": "execute_result"
    }
   ],
   "source": [
    "price = model.predict(test[vars_to_keep])\n",
    "price = np.exp(price)\n",
    "submission = pd.DataFrame({\n",
    "    \"Id\": test[\"Id\"],\n",
    "    \"SalePrice\": price\n",
    "})\n",
    "\n",
    "submission.to_csv(\"submission.csv\", index=False)\n",
    "submission.sample(10)"
   ]
  }
 ],
 "metadata": {
  "kernelspec": {
   "display_name": "Python 3",
   "language": "python",
   "name": "python3"
  },
  "language_info": {
   "codemirror_mode": {
    "name": "ipython",
    "version": 3
   },
   "file_extension": ".py",
   "mimetype": "text/x-python",
   "name": "python",
   "nbconvert_exporter": "python",
   "pygments_lexer": "ipython3",
   "version": "3.7.12"
  },
  "papermill": {
   "default_parameters": {},
   "duration": 13.088526,
   "end_time": "2023-01-18T09:42:31.198457",
   "environment_variables": {},
   "exception": null,
   "input_path": "__notebook__.ipynb",
   "output_path": "__notebook__.ipynb",
   "parameters": {},
   "start_time": "2023-01-18T09:42:18.109931",
   "version": "2.3.4"
  }
 },
 "nbformat": 4,
 "nbformat_minor": 5
}
